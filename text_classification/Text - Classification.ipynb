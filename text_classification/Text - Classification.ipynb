{
 "cells": [
  {
   "cell_type": "markdown",
   "metadata": {},
   "source": [
    "# Bag of Words"
   ]
  },
  {
   "cell_type": "code",
   "execution_count": 2,
   "metadata": {},
   "outputs": [],
   "source": [
    "import os, unicodedata\n",
    "from collections import Counter\n",
    "\n",
    "import numpy as np\n",
    "import pandas as pd\n",
    "from pyvi.ViPosTagger import postagging\n",
    "from pyvi.ViTokenizer import tokenize"
   ]
  },
  {
   "cell_type": "code",
   "execution_count": 54,
   "metadata": {},
   "outputs": [],
   "source": [
    "from sklearn.svm import SVC\n",
    "from sklearn.cluster import k_means\n",
    "\n",
    "from sklearn.model_selection import train_test_split\n",
    "from sklearn.feature_extraction.text import TfidfTransformer, TfidfVectorizer\n",
    "\n",
    "from imblearn.over_sampling import SMOTE, ADASYN\n",
    "from sklearn.decomposition import TruncatedSVD\n",
    "from sklearn.decomposition import PCA\n",
    "from sklearn.metrics import accuracy_score\n",
    "\n",
    "from gensim.utils import simple_preprocess "
   ]
  },
  {
   "cell_type": "code",
   "execution_count": 4,
   "metadata": {},
   "outputs": [],
   "source": [
    "dt = pd.read_csv('best.csv')\n",
    "txt = pd.DataFrame(dt,columns=['text']).values.tolist()\n",
    "lbl = pd.DataFrame(dt,columns=['label']).values.tolist()\n",
    "text = [t[0] for t in txt]\n",
    "label = [l[0] for l in lbl]"
   ]
  },
  {
   "cell_type": "code",
   "execution_count": 5,
   "metadata": {},
   "outputs": [
    {
     "data": {
      "text/plain": [
       "thanh_nien                        2649\n",
       "thanh_tra                         2068\n",
       "suc_khoe                          1906\n",
       "y_te                              1774\n",
       "kiem_toan                         1680\n",
       "bat_dong_san                      1549\n",
       "hai_quan                          1532\n",
       "chinh_tri                         1508\n",
       "bien_dao                          1475\n",
       "quoc_phong                        1473\n",
       "chinh_sach                        1434\n",
       "giao_duc                          1416\n",
       "quoc_hoi                          1416\n",
       "phu_nu                            1385\n",
       "phap_luat                         1370\n",
       "giao_thong_van_tai                1319\n",
       "tai_nguyen_moi_truong             1300\n",
       "the_thao                          1261\n",
       "cong_nghiep                       1200\n",
       "khoa_hoc_cong_nghe                1188\n",
       "thuong_mai                        1180\n",
       "thoi_trang                        1178\n",
       "kinh_doanh                        1128\n",
       "giai_tri                          1108\n",
       "xa_hoi                            1031\n",
       "tre_em                             940\n",
       "lao_dong_thuong_binh_va_xa_hoi     939\n",
       "xay_dung                           888\n",
       "buu_chinh_vien_thong               839\n",
       "van_nghe                           814\n",
       "van_hoa                            802\n",
       "tai_chinh                          770\n",
       "nong_nghiep                        753\n",
       "so_huu_tri_tue                     737\n",
       "kinh_te                            721\n",
       "an_ninh_trat_tu                    681\n",
       "nang_luong                         573\n",
       "lao_dong                           265\n",
       "thong_tin_va_truyen_thong          136\n",
       "an_ninh                            126\n",
       "Name: label, dtype: int64"
      ]
     },
     "execution_count": 5,
     "metadata": {},
     "output_type": "execute_result"
    }
   ],
   "source": [
    "dt.label.value_counts()"
   ]
  },
  {
   "cell_type": "markdown",
   "metadata": {},
   "source": [
    "# TF - IDF"
   ]
  },
  {
   "cell_type": "code",
   "execution_count": 6,
   "metadata": {},
   "outputs": [],
   "source": [
    "vectorizer = TfidfVectorizer(ngram_range=(1,2), min_df=2, max_features=20000)\n",
    "vectorizer.fit(text)\n",
    "_train = vectorizer.transform(text)"
   ]
  },
  {
   "cell_type": "markdown",
   "metadata": {},
   "source": [
    "# Over - sampling\n",
    "\n",
    "Có 2 cách có thể thử ở đây\n",
    "\n",
    "1. SMOTE\n",
    "2. ADASYN"
   ]
  },
  {
   "cell_type": "code",
   "execution_count": 7,
   "metadata": {},
   "outputs": [],
   "source": [
    "sm = SMOTE()\n",
    "x, y = sm.fit_sample(_train, label)"
   ]
  },
  {
   "cell_type": "code",
   "execution_count": 8,
   "metadata": {},
   "outputs": [
    {
     "data": {
      "text/plain": [
       "Counter({'khoa_hoc_cong_nghe': 2649,\n",
       "         'an_ninh': 2649,\n",
       "         'an_ninh_trat_tu': 2649,\n",
       "         'bat_dong_san': 2649,\n",
       "         'bien_dao': 2649,\n",
       "         'buu_chinh_vien_thong': 2649,\n",
       "         'chinh_sach': 2649,\n",
       "         'chinh_tri': 2649,\n",
       "         'cong_nghiep': 2649,\n",
       "         'giai_tri': 2649,\n",
       "         'giao_duc': 2649,\n",
       "         'giao_thong_van_tai': 2649,\n",
       "         'hai_quan': 2649,\n",
       "         'kiem_toan': 2649,\n",
       "         'kinh_doanh': 2649,\n",
       "         'kinh_te': 2649,\n",
       "         'lao_dong': 2649,\n",
       "         'lao_dong_thuong_binh_va_xa_hoi': 2649,\n",
       "         'nang_luong': 2649,\n",
       "         'nong_nghiep': 2649,\n",
       "         'phap_luat': 2649,\n",
       "         'phu_nu': 2649,\n",
       "         'quoc_hoi': 2649,\n",
       "         'quoc_phong': 2649,\n",
       "         'so_huu_tri_tue': 2649,\n",
       "         'suc_khoe': 2649,\n",
       "         'tai_chinh': 2649,\n",
       "         'tai_nguyen_moi_truong': 2649,\n",
       "         'thanh_nien': 2649,\n",
       "         'thanh_tra': 2649,\n",
       "         'the_thao': 2649,\n",
       "         'thoi_trang': 2649,\n",
       "         'thong_tin_va_truyen_thong': 2649,\n",
       "         'thuong_mai': 2649,\n",
       "         'tre_em': 2649,\n",
       "         'van_hoa': 2649,\n",
       "         'van_nghe': 2649,\n",
       "         'xay_dung': 2649,\n",
       "         'xa_hoi': 2649,\n",
       "         'y_te': 2649})"
      ]
     },
     "execution_count": 8,
     "metadata": {},
     "output_type": "execute_result"
    }
   ],
   "source": [
    "Counter(y)"
   ]
  },
  {
   "cell_type": "markdown",
   "metadata": {},
   "source": [
    "# Dimension Reduction"
   ]
  },
  {
   "cell_type": "code",
   "execution_count": 9,
   "metadata": {},
   "outputs": [],
   "source": [
    "svd = TruncatedSVD(n_components=200)\n",
    "x_embedded = svd.fit_transform(x)"
   ]
  },
  {
   "cell_type": "markdown",
   "metadata": {},
   "source": [
    "# Split data"
   ]
  },
  {
   "cell_type": "code",
   "execution_count": 10,
   "metadata": {},
   "outputs": [],
   "source": [
    "x_train, x_test, y_train, y_test = train_test_split(x_embedded, y, test_size=0.35)"
   ]
  },
  {
   "cell_type": "code",
   "execution_count": 19,
   "metadata": {},
   "outputs": [
    {
     "data": {
      "text/plain": [
       "(105960, 20000)"
      ]
     },
     "execution_count": 19,
     "metadata": {},
     "output_type": "execute_result"
    }
   ],
   "source": [
    "x.shape"
   ]
  },
  {
   "cell_type": "markdown",
   "metadata": {},
   "source": [
    "# Training"
   ]
  },
  {
   "cell_type": "code",
   "execution_count": 48,
   "metadata": {},
   "outputs": [
    {
     "data": {
      "text/plain": [
       "SVC()"
      ]
     },
     "execution_count": 48,
     "metadata": {},
     "output_type": "execute_result"
    }
   ],
   "source": [
    "clr = SVC()\n",
    "clr.fit(x_train, y_train)"
   ]
  },
  {
   "cell_type": "code",
   "execution_count": 49,
   "metadata": {},
   "outputs": [
    {
     "data": {
      "text/plain": [
       "0.7836380305236478"
      ]
     },
     "execution_count": 49,
     "metadata": {},
     "output_type": "execute_result"
    }
   ],
   "source": [
    "t = clr.predict(x_test)\n",
    "accuracy_score(y_test, t)"
   ]
  },
  {
   "cell_type": "markdown",
   "metadata": {},
   "source": [
    "# Tét \n",
    "\n",
    "Tét thử trên báo mới"
   ]
  },
  {
   "cell_type": "code",
   "execution_count": 81,
   "metadata": {},
   "outputs": [],
   "source": [
    "new_data_tt = 'Chủ tịch Josep Maria Bartomeu đối mặt cuộc bỏ phiếu bất tín nhiệm, có thể khiến ông mất ghế trước khi hết nhiệm kỳ ở Barca. Chiến dịch Mes que una Mocio (Hơn cả một cuộc vận động) bắt đầu từ tháng Tám đã thu về 20.731 chữ ký tính đến ngày 17/9, vượt qua con số yêu cầu là 16.520. Điều này đồng nghĩa với việc Barca phải xét duyệt một cuộc trưng cầu dân ý về vị trí lãnh đạo của CLB. Bartomeu đối mặt nguy cơ mất ghế sớm sau hai nhiệm kỳ làm chủ tịch Barca. Bartomeu đối mặt nguy cơ mất ghế sớm sau hai nhiệm kỳ làm chủ tịch Barca. Hôm 17/8, Barca thông báo đã tiếp nhận ý kiến của các hội viên, qua đề nghị của ứng viên Chủ tịch Jordi Farre - một trong những người đứng đầu chiến dịch phản đối Bartomeu. \"Hội viên Jordi Farre, người ủng hộ một cuộc bỏ phiếu chống lại ban lãnh đạo Barca, đã chuyển những chữ ký của các hội viên ủng hộ ông đến Văn phòng hỗ trợ người hâm mộ của CLB\", Barca thông báo. Theo quy định, sẽ có một ủy ban được thành lập, gồm hai thành viên ban lãnh đạo Barca, hai đại diện đã ký tên trong chiến dịch và một đại diện của Liên đoan bóng đá Catalonia. Nhiệm vụ của ủy ban này là xem xét tính xác thực của các chữ ký trong 10 ngày.Nếu ít nhất 16.520 chữ ký được công nhận (tương đương 15% hội viên), Barca phải tổ chức bỏ phiếu bất tín nhiệm với Bartomeu trong thời gian từ 10 đến 20 ngày. Nếu 66,5% hội viên của CLB bỏ phiếu chống, Bartomeu phải rời vị trí. Nếu cuộc bỏ phiếu không được tổ chức, hoặc diễn ra nhưng không đủ số phiếu chống, Bartomeu sẽ tại vị đến tháng 3/2021 - thời điểm Barca tổ chức bầu chủ tịch mới. Nhiệm kỳ từ năm 2016 của Chủ tịch Bartomeu gây ra nhiều tranh cãi. Năm năm qua, họ thất bại toàn diện ở Champions League, trong đó ba mùa gần nhất chịu những trận thua nặng nề như 1-4 gặp AS Roma, 0-3 trước Liverpool và mới nhất là trận đấu với Bayern. Ban lãnh đạo đã đổ ra gần một tỷ USD nhưng không chiêu mộ được cầu thủ nào thực sự thành công, bên cạnh những lùm xùm về chuyện giảm lương cầu thủ mùa Covid-19 hay thuê công ty nói xấu các trụ cột như Messi, Gerard Pique...'\n",
    "new_data_gd = 'Đại học Kinh tế TP HCM có hai mức điểm sàn 18 và 20 với các ngành tại cơ sở TP HCM, các ngành tại phân hiệu Vĩnh Long lấy 16 điểm, theo công bố sáng 18/9. Tại TP HCM, mức sàn 20 điểm áp dụng cho các ngành: Kinh tế, Quản trị kinh doanh, Kinh doanh quốc tế, Logistics và Quản lý chuỗi cung ứng, Kinh doanh thương mại, Marketing, Tài chính - Ngân hàng, Kế toán, Quản trị dịch vụ du lịch và lữ hành, Quản trị khách sạn, Ngôn ngữ Anh, Luật, chương trình Cử nhân tài năng - Ngành Quản trị kinh doanh. Mức 18 điểm áp dụng cho các ngành: Bảo hiểm, Tài chính quốc tế, Toán kinh tế, Thống kê kinh tế, Hệ thống thông tin quản lý, Khoa học dữ liệu, Kỹ thuật phần mềm, Quản lý công, chuyên ngành Quản trị bệnh viện. Tại phân hiệu Vĩnh Long, mức sàn 16 điểm cho các chuyên ngành: Kinh tế và Kinh doanh nông nghiệp (ngành Kinh tế), Quản trị (ngành Quản trị kinh doanh), ngành Kinh doanh quốc tế, chuyên ngành Ngân hàng (ngành Tài chính - Ngân hàng), chuyên ngành Kế toán doanh nghiệp (ngành Kế toán), chuyên ngành Thương mại điện tử (ngành Hệ thống thông tin quản lý). Điểm sàn xét tuyển là mức điểm dành cho thí sinh THPT, khu vực 3, không nhân hệ số, cho các tổ hợp xét tuyển gồm 3 môn thi, bài thi tương ứng từng ngành, chuyên ngành, chương trình. Các môn thi, bài thi phải trên 1 điểm theo thang điểm 10. Mức điểm chênh lệch giữa hai nhóm đối tượng kế tiếp là 1, giữa hai khu vực kế tiếp nhau là 0,25 theo thang điểm 10. Năm nay, trường tuyển 5.250 chỉ tiêu cho 20 ngành và một chuyên ngành chương trình cử nhân đại trà và chất lượng cao; 250 chỉ tiêu chương trình cử nhân tài năng, giảng dạy bằng tiếng Anh. Phân hiệu tại Vĩnh Long tuyển sinh 300 chỉ tiêu cho 6 ngành, chuyên ngành. Trường sử dụng 5 phương án tuyển sinh: xét tuyển thẳng theo quy định của Bộ Giáo dục và Đào tạo chiếm 1%; xét tuyển học sinh giỏi 30-40%; xét tuyển quá trình học tập 20-30%; xét điểm thi đánh giá năng lực 20%; chỉ tiêu còn lại là xét dựa vào điểm thi tốt nghiệp THPT.'"
   ]
  },
  {
   "cell_type": "code",
   "execution_count": 82,
   "metadata": {},
   "outputs": [],
   "source": [
    "t = simple_preprocess(new_data_tt)\n",
    "t = ' '.join(t)\n",
    "test_data = vectorizer.transform([t])"
   ]
  },
  {
   "cell_type": "code",
   "execution_count": 83,
   "metadata": {},
   "outputs": [
    {
     "data": {
      "text/plain": [
       "array([0., 0., 0., ..., 0., 0., 0.])"
      ]
     },
     "execution_count": 83,
     "metadata": {},
     "output_type": "execute_result"
    }
   ],
   "source": [
    "t = simple_preprocess(new_data_gd)\n",
    "t = ' '.join(t)\n",
    "test_data = vectorizer.transform([t])\n",
    "test_data[0].toarray()[0]"
   ]
  },
  {
   "cell_type": "code",
   "execution_count": 84,
   "metadata": {},
   "outputs": [
    {
     "data": {
      "text/plain": [
       "array(['giao_duc'], dtype='<U30')"
      ]
     },
     "execution_count": 84,
     "metadata": {},
     "output_type": "execute_result"
    }
   ],
   "source": [
    "test_data = svd.transform(test_data[0].toarray())\n",
    "clr.predict(test_data)"
   ]
  },
  {
   "cell_type": "markdown",
   "metadata": {},
   "source": [
    "---\n",
    "\n",
    "> Thử một vài phương pháp khác"
   ]
  },
  {
   "cell_type": "code",
   "execution_count": null,
   "metadata": {},
   "outputs": [],
   "source": []
  },
  {
   "cell_type": "code",
   "execution_count": null,
   "metadata": {},
   "outputs": [],
   "source": [
    "import matplotlib.pyplot as plt"
   ]
  },
  {
   "cell_type": "code",
   "execution_count": null,
   "metadata": {},
   "outputs": [],
   "source": [
    "ite = list(range(len(x_train[0].toarray()[0])))"
   ]
  },
  {
   "cell_type": "code",
   "execution_count": null,
   "metadata": {},
   "outputs": [],
   "source": [
    "plot_data = []\n",
    "for i in range(40000):\n",
    "    if y_train[i]=='the_thao':\n",
    "        plot_data.append(x_train[i].toarray()[0])"
   ]
  },
  {
   "cell_type": "code",
   "execution_count": null,
   "metadata": {},
   "outputs": [],
   "source": [
    "mean_nl = np.mean(plot_data, axis=0)"
   ]
  },
  {
   "cell_type": "markdown",
   "metadata": {},
   "source": []
  },
  {
   "cell_type": "code",
   "execution_count": null,
   "metadata": {},
   "outputs": [],
   "source": [
    "plt.plot(ite, mean_nl, linewidth=0.5)\n",
    "# plt.scatter(ite, plot_data[1], s=2, c='r')\n",
    "# plt.scatter(ite, plot_data[2], s=2, c='r')\n",
    "plt.savefig('the_thao.png')"
   ]
  },
  {
   "cell_type": "code",
   "execution_count": null,
   "metadata": {},
   "outputs": [],
   "source": [
    "plot_data_gd = []\n",
    "for i in range(40000):\n",
    "    if y_train[i]=='van_hoa':\n",
    "        plot_data_gd.append(x_train[i].toarray()[0])"
   ]
  },
  {
   "cell_type": "code",
   "execution_count": null,
   "metadata": {},
   "outputs": [],
   "source": [
    "mean_gd = np.mean(plot_data_gd, axis=0)"
   ]
  },
  {
   "cell_type": "code",
   "execution_count": null,
   "metadata": {},
   "outputs": [],
   "source": [
    "plt.plot(ite, mean_gd, linewidth=0.5)\n",
    "# plt.scatter(ite, plot_data_gd[1], s=2, c='r')\n",
    "# plt.scatter(ite, plot_data_gd[2], s=2, c='r')\n",
    "plt.savefig('van_hoa.png')"
   ]
  },
  {
   "cell_type": "code",
   "execution_count": null,
   "metadata": {},
   "outputs": [],
   "source": [
    "new_text = \"Tờ El Mundo của Tây Ban Nha đưa tin lực lượng cảnh sát Catalunya đã đệ trình một lá đơn lên thẩm phán để điều tra việc CLB Barca trả quá nhiều tiền cho công ty tư vấn truyền thông xã hội I3 Ventures.Theo cáo buộc, Barca đã trả cao hơn 600% cho công ty này dẫn đến nghi ngờ rằng đang có hành động tham nhũng tại CLB. Tranh cãi xung quanh mối quan hệ giữa Barca với I3 Ventures đã nổi lên từ tháng 2 khi đài Cadena Ser cho biết công ty này được thuê với mục đích chính là đăng những câu chuyện tiêu cực về các nhân vật có ảnh hưởng tại Camp Nou. Barca đã thanh toán 6 hóa đơn khác nhau với tổng cộng chi phí gần 1 triệu euro cho I3 Ventures. Sau thông tin trên, đội chủ sân Camp Nou đã nhanh chóng cắt đứt hợp đồng với I3 Ventures. Chủ tịch Bartomeu dính cáo buộc tham nhũng, cuộc khủng hoảng Barca càng phức tạp - 1 Bartomeu và ban quản trị Barca đối mặt với cáo buộc tham nhũng. Vào tháng 7, Barca đã công khai kết quả điều tra của công ty kiểm toán PWC cho biết họ không trả cao hơn giá thị trường cho các dịch vụ của I3 Ventures. Tuy nhiên, El Mundo đưa tin cảnh sát lập luận rằng cuộc kiểm toán chỉ do một bên thứ 3 thực hiện không thể được coi là “kết luận cuối cùng” của vụ việc. Đáng chú ý, vụ bê bối này đến trong bối cảnh Lionel Messi đang ra quyết định cuối cùng về tương lai của mình. Siêu sao người Argentina từng gửi fax để yêu cầu được ra đi. Nhưng theo các nguồn tin từ quê hương Messi, “90% anh sẽ ở lại CLB” sau khi cha Jorge của anh có cuộc nói chuyện dài 90 phút với ban quản trị Barca vào hôm thứ Tư. Giờ đây, Messi sẽ chờ đợi xem tình hình nội bộ ở Barca ra sao rồi mới đưa ra quyết định nên ở lại hay không. Nếu ra đi, Messi được cho sẽ đến Man City.\""
   ]
  },
  {
   "cell_type": "code",
   "execution_count": null,
   "metadata": {},
   "outputs": [],
   "source": [
    "new_data = vectorizer.transform([new_text])"
   ]
  },
  {
   "cell_type": "code",
   "execution_count": null,
   "metadata": {},
   "outputs": [],
   "source": [
    "new_data.toarray()"
   ]
  },
  {
   "cell_type": "code",
   "execution_count": null,
   "metadata": {},
   "outputs": [],
   "source": [
    "plt.plot(ite, mean_gd, linewidth=0.5)\n",
    "# plt.plot(ite, mean_nl, linewidth=0.5, c='r')\n",
    "plt.scatter(ite, new_data.toarray()[0], c='g', s=3)\n",
    "plt.plot(ite, new_data.toarray()[0], c='g', linewidth=0.2)\n",
    "plt.savefig('mixed.svg')"
   ]
  },
  {
   "cell_type": "code",
   "execution_count": null,
   "metadata": {},
   "outputs": [],
   "source": [
    "new_data"
   ]
  },
  {
   "cell_type": "code",
   "execution_count": null,
   "metadata": {},
   "outputs": [],
   "source": [
    "vectorizer.get_feature_names()"
   ]
  },
  {
   "cell_type": "code",
   "execution_count": null,
   "metadata": {},
   "outputs": [],
   "source": []
  }
 ],
 "metadata": {
  "kernelspec": {
   "display_name": "tensor",
   "language": "python",
   "name": "tensor"
  },
  "language_info": {
   "codemirror_mode": {
    "name": "ipython",
    "version": 3
   },
   "file_extension": ".py",
   "mimetype": "text/x-python",
   "name": "python",
   "nbconvert_exporter": "python",
   "pygments_lexer": "ipython3",
   "version": "3.8.2"
  }
 },
 "nbformat": 4,
 "nbformat_minor": 4
}
