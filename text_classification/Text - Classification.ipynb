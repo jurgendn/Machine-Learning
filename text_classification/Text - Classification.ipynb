{
 "cells": [
  {
   "cell_type": "markdown",
   "metadata": {},
   "source": [
    "# Bag of Words"
   ]
  },
  {
   "cell_type": "code",
   "execution_count": 1,
   "metadata": {},
   "outputs": [],
   "source": [
    "import os, unicodedata\n",
    "from collections import Counter\n",
    "\n",
    "import numpy as np\n",
    "import pandas as pd\n",
    "from pyvi.ViPosTagger import postagging\n",
    "from pyvi.ViTokenizer import tokenize"
   ]
  },
  {
   "cell_type": "code",
   "execution_count": 2,
   "metadata": {},
   "outputs": [],
   "source": [
    "from sklearn.svm import SVC\n",
    "from sklearn.cluster import k_means\n",
    "\n",
    "from sklearn.model_selection import train_test_split\n",
    "from sklearn.feature_extraction.text import TfidfTransformer, TfidfVectorizer\n",
    "\n",
    "from imblearn.over_sampling import SMOTE, ADASYN\n",
    "from sklearn.decomposition import TruncatedSVD\n",
    "from sklearn.decomposition import PCA\n",
    "from sklearn.metrics import accuracy_score\n",
    "\n",
    "from gensim.utils import simple_preprocess "
   ]
  },
  {
   "cell_type": "code",
   "execution_count": null,
   "metadata": {},
   "outputs": [],
   "source": [
    "dt = pd.read_csv('best.csv')\n",
    "txt = pd.DataFrame(dt,columns=['text']).values.tolist()\n",
    "lbl = pd.DataFrame(dt,columns=['label']).values.tolist()\n",
    "text = [t[0] for t in txt]\n",
    "label = [l[0] for l in lbl]"
   ]
  },
  {
   "cell_type": "code",
   "execution_count": null,
   "metadata": {},
   "outputs": [],
   "source": [
    "dt.label.value_counts()"
   ]
  },
  {
   "cell_type": "markdown",
   "metadata": {},
   "source": [
    "# TF - IDF"
   ]
  },
  {
   "cell_type": "code",
   "execution_count": null,
   "metadata": {},
   "outputs": [],
   "source": [
    "vectorizer = TfidfVectorizer(ngram_range=(1,2), min_df=2, max_features=20000)\n",
    "vectorizer.fit(text)\n",
    "_train = vectorizer.transform(text)"
   ]
  },
  {
   "cell_type": "markdown",
   "metadata": {},
   "source": [
    "# Over - sampling\n",
    "\n",
    "Có 2 cách có thể thử ở đây\n",
    "\n",
    "1. SMOTE\n",
    "2. ADASYN"
   ]
  },
  {
   "cell_type": "code",
   "execution_count": 7,
   "metadata": {},
   "outputs": [],
   "source": [
    "sm = SMOTE()\n",
    "x, y = sm.fit_sample(_train, label)"
   ]
  },
  {
   "cell_type": "code",
   "execution_count": 8,
   "metadata": {},
   "outputs": [
    {
     "data": {
      "text/plain": [
       "Counter({'khoa_hoc_cong_nghe': 2649,\n",
       "         'an_ninh': 2649,\n",
       "         'an_ninh_trat_tu': 2649,\n",
       "         'bat_dong_san': 2649,\n",
       "         'bien_dao': 2649,\n",
       "         'buu_chinh_vien_thong': 2649,\n",
       "         'chinh_sach': 2649,\n",
       "         'chinh_tri': 2649,\n",
       "         'cong_nghiep': 2649,\n",
       "         'giai_tri': 2649,\n",
       "         'giao_duc': 2649,\n",
       "         'giao_thong_van_tai': 2649,\n",
       "         'hai_quan': 2649,\n",
       "         'kiem_toan': 2649,\n",
       "         'kinh_doanh': 2649,\n",
       "         'kinh_te': 2649,\n",
       "         'lao_dong': 2649,\n",
       "         'lao_dong_thuong_binh_va_xa_hoi': 2649,\n",
       "         'nang_luong': 2649,\n",
       "         'nong_nghiep': 2649,\n",
       "         'phap_luat': 2649,\n",
       "         'phu_nu': 2649,\n",
       "         'quoc_hoi': 2649,\n",
       "         'quoc_phong': 2649,\n",
       "         'so_huu_tri_tue': 2649,\n",
       "         'suc_khoe': 2649,\n",
       "         'tai_chinh': 2649,\n",
       "         'tai_nguyen_moi_truong': 2649,\n",
       "         'thanh_nien': 2649,\n",
       "         'thanh_tra': 2649,\n",
       "         'the_thao': 2649,\n",
       "         'thoi_trang': 2649,\n",
       "         'thong_tin_va_truyen_thong': 2649,\n",
       "         'thuong_mai': 2649,\n",
       "         'tre_em': 2649,\n",
       "         'van_hoa': 2649,\n",
       "         'van_nghe': 2649,\n",
       "         'xay_dung': 2649,\n",
       "         'xa_hoi': 2649,\n",
       "         'y_te': 2649})"
      ]
     },
     "execution_count": 8,
     "metadata": {},
     "output_type": "execute_result"
    }
   ],
   "source": [
    "Counter(y)"
   ]
  },
  {
   "cell_type": "markdown",
   "metadata": {},
   "source": [
    "# Dimension Reduction"
   ]
  },
  {
   "cell_type": "code",
   "execution_count": 9,
   "metadata": {},
   "outputs": [],
   "source": [
    "svd = TruncatedSVD(n_components=200)\n",
    "x_embedded = svd.fit_transform(x)"
   ]
  },
  {
   "cell_type": "markdown",
   "metadata": {},
   "source": [
    "# Split data"
   ]
  },
  {
   "cell_type": "code",
   "execution_count": 10,
   "metadata": {},
   "outputs": [],
   "source": [
    "x_train, x_test, y_train, y_test = train_test_split(x_embedded, y, test_size=0.35)"
   ]
  },
  {
   "cell_type": "code",
   "execution_count": 19,
   "metadata": {},
   "outputs": [
    {
     "data": {
      "text/plain": [
       "(105960, 20000)"
      ]
     },
     "execution_count": 19,
     "metadata": {},
     "output_type": "execute_result"
    }
   ],
   "source": [
    "x.shape"
   ]
  },
  {
   "cell_type": "markdown",
   "metadata": {},
   "source": [
    "# Training"
   ]
  },
  {
   "cell_type": "code",
   "execution_count": 48,
   "metadata": {},
   "outputs": [
    {
     "data": {
      "text/plain": [
       "SVC()"
      ]
     },
     "execution_count": 48,
     "metadata": {},
     "output_type": "execute_result"
    }
   ],
   "source": [
    "clr = SVC()\n",
    "clr.fit(x_train, y_train)"
   ]
  },
  {
   "cell_type": "code",
   "execution_count": 49,
   "metadata": {},
   "outputs": [
    {
     "data": {
      "text/plain": [
       "0.7836380305236478"
      ]
     },
     "execution_count": 49,
     "metadata": {},
     "output_type": "execute_result"
    }
   ],
   "source": [
    "t = clr.predict(x_test)\n",
    "accuracy_score(y_test, t)"
   ]
  },
  {
   "cell_type": "markdown",
   "metadata": {},
   "source": [
    "# Tét \n",
    "\n",
    "Tét thử trên báo mới"
   ]
  },
  {
   "cell_type": "code",
   "execution_count": 81,
   "metadata": {},
   "outputs": [],
   "source": [
    "new_data_tt = 'Chủ tịch Josep Maria Bartomeu đối mặt cuộc bỏ phiếu bất tín nhiệm, có thể khiến ông mất ghế trước khi hết nhiệm kỳ ở Barca. Chiến dịch Mes que una Mocio (Hơn cả một cuộc vận động) bắt đầu từ tháng Tám đã thu về 20.731 chữ ký tính đến ngày 17/9, vượt qua con số yêu cầu là 16.520. Điều này đồng nghĩa với việc Barca phải xét duyệt một cuộc trưng cầu dân ý về vị trí lãnh đạo của CLB. Bartomeu đối mặt nguy cơ mất ghế sớm sau hai nhiệm kỳ làm chủ tịch Barca. Bartomeu đối mặt nguy cơ mất ghế sớm sau hai nhiệm kỳ làm chủ tịch Barca. Hôm 17/8, Barca thông báo đã tiếp nhận ý kiến của các hội viên, qua đề nghị của ứng viên Chủ tịch Jordi Farre - một trong những người đứng đầu chiến dịch phản đối Bartomeu. \"Hội viên Jordi Farre, người ủng hộ một cuộc bỏ phiếu chống lại ban lãnh đạo Barca, đã chuyển những chữ ký của các hội viên ủng hộ ông đến Văn phòng hỗ trợ người hâm mộ của CLB\", Barca thông báo. Theo quy định, sẽ có một ủy ban được thành lập, gồm hai thành viên ban lãnh đạo Barca, hai đại diện đã ký tên trong chiến dịch và một đại diện của Liên đoan bóng đá Catalonia. Nhiệm vụ của ủy ban này là xem xét tính xác thực của các chữ ký trong 10 ngày.Nếu ít nhất 16.520 chữ ký được công nhận (tương đương 15% hội viên), Barca phải tổ chức bỏ phiếu bất tín nhiệm với Bartomeu trong thời gian từ 10 đến 20 ngày. Nếu 66,5% hội viên của CLB bỏ phiếu chống, Bartomeu phải rời vị trí. Nếu cuộc bỏ phiếu không được tổ chức, hoặc diễn ra nhưng không đủ số phiếu chống, Bartomeu sẽ tại vị đến tháng 3/2021 - thời điểm Barca tổ chức bầu chủ tịch mới. Nhiệm kỳ từ năm 2016 của Chủ tịch Bartomeu gây ra nhiều tranh cãi. Năm năm qua, họ thất bại toàn diện ở Champions League, trong đó ba mùa gần nhất chịu những trận thua nặng nề như 1-4 gặp AS Roma, 0-3 trước Liverpool và mới nhất là trận đấu với Bayern. Ban lãnh đạo đã đổ ra gần một tỷ USD nhưng không chiêu mộ được cầu thủ nào thực sự thành công, bên cạnh những lùm xùm về chuyện giảm lương cầu thủ mùa Covid-19 hay thuê công ty nói xấu các trụ cột như Messi, Gerard Pique...'\n",
    "new_data_gd = 'Đại học Kinh tế TP HCM có hai mức điểm sàn 18 và 20 với các ngành tại cơ sở TP HCM, các ngành tại phân hiệu Vĩnh Long lấy 16 điểm, theo công bố sáng 18/9. Tại TP HCM, mức sàn 20 điểm áp dụng cho các ngành: Kinh tế, Quản trị kinh doanh, Kinh doanh quốc tế, Logistics và Quản lý chuỗi cung ứng, Kinh doanh thương mại, Marketing, Tài chính - Ngân hàng, Kế toán, Quản trị dịch vụ du lịch và lữ hành, Quản trị khách sạn, Ngôn ngữ Anh, Luật, chương trình Cử nhân tài năng - Ngành Quản trị kinh doanh. Mức 18 điểm áp dụng cho các ngành: Bảo hiểm, Tài chính quốc tế, Toán kinh tế, Thống kê kinh tế, Hệ thống thông tin quản lý, Khoa học dữ liệu, Kỹ thuật phần mềm, Quản lý công, chuyên ngành Quản trị bệnh viện. Tại phân hiệu Vĩnh Long, mức sàn 16 điểm cho các chuyên ngành: Kinh tế và Kinh doanh nông nghiệp (ngành Kinh tế), Quản trị (ngành Quản trị kinh doanh), ngành Kinh doanh quốc tế, chuyên ngành Ngân hàng (ngành Tài chính - Ngân hàng), chuyên ngành Kế toán doanh nghiệp (ngành Kế toán), chuyên ngành Thương mại điện tử (ngành Hệ thống thông tin quản lý). Điểm sàn xét tuyển là mức điểm dành cho thí sinh THPT, khu vực 3, không nhân hệ số, cho các tổ hợp xét tuyển gồm 3 môn thi, bài thi tương ứng từng ngành, chuyên ngành, chương trình. Các môn thi, bài thi phải trên 1 điểm theo thang điểm 10. Mức điểm chênh lệch giữa hai nhóm đối tượng kế tiếp là 1, giữa hai khu vực kế tiếp nhau là 0,25 theo thang điểm 10. Năm nay, trường tuyển 5.250 chỉ tiêu cho 20 ngành và một chuyên ngành chương trình cử nhân đại trà và chất lượng cao; 250 chỉ tiêu chương trình cử nhân tài năng, giảng dạy bằng tiếng Anh. Phân hiệu tại Vĩnh Long tuyển sinh 300 chỉ tiêu cho 6 ngành, chuyên ngành. Trường sử dụng 5 phương án tuyển sinh: xét tuyển thẳng theo quy định của Bộ Giáo dục và Đào tạo chiếm 1%; xét tuyển học sinh giỏi 30-40%; xét tuyển quá trình học tập 20-30%; xét điểm thi đánh giá năng lực 20%; chỉ tiêu còn lại là xét dựa vào điểm thi tốt nghiệp THPT.'"
   ]
  },
  {
   "cell_type": "code",
   "execution_count": 82,
   "metadata": {},
   "outputs": [],
   "source": [
    "t = simple_preprocess(new_data_tt)\n",
    "t = ' '.join(t)\n",
    "test_data = vectorizer.transform([t])"
   ]
  },
  {
   "cell_type": "code",
   "execution_count": 83,
   "metadata": {},
   "outputs": [
    {
     "data": {
      "text/plain": [
       "array([0., 0., 0., ..., 0., 0., 0.])"
      ]
     },
     "execution_count": 83,
     "metadata": {},
     "output_type": "execute_result"
    }
   ],
   "source": [
    "t = simple_preprocess(new_data_gd)\n",
    "t = ' '.join(t)\n",
    "test_data = vectorizer.transform([t])\n",
    "test_data[0].toarray()[0]"
   ]
  },
  {
   "cell_type": "code",
   "execution_count": 84,
   "metadata": {},
   "outputs": [
    {
     "data": {
      "text/plain": [
       "array(['giao_duc'], dtype='<U30')"
      ]
     },
     "execution_count": 84,
     "metadata": {},
     "output_type": "execute_result"
    }
   ],
   "source": [
    "test_data = svd.transform(test_data[0].toarray())\n",
    "clr.predict(test_data)"
   ]
  },
  {
   "cell_type": "markdown",
   "metadata": {},
   "source": [
    "---\n",
    "\n",
    "> Thử một vài phương pháp khác"
   ]
  },
  {
   "cell_type": "markdown",
   "metadata": {},
   "source": [
    "# Một số cách tiếp cận khác"
   ]
  },
  {
   "cell_type": "markdown",
   "metadata": {},
   "source": [
    "Giả sử ban đầu dữ liệu có thể được phân vào $n$ lớp khác nhau, kí hiệu là $c_1,c_2,...,c_m$ \n",
    "\n",
    "Bằng cách chọn cách biểu diễn dữ liệu bằng TF-IDF, ta thấy mỗi một lớp $c_i, i=1,2,...,m$ sẽ có một đặc trưng trong các dữ liệu thuộc lớp đó: các từ đặc trưng cho lớp $c_i$ sẽ có chỉ số TF - IDF cao hơn các từ còn lại. Nói cách khác, tồn tại một vector đặc trưng/dạng đặc trưng cho lớp $c_i$ mà trong đó các điểm dữ liệu thuộc vào lớp $c_i$ đều có cùng dạng với vector này. Với một lớp $c_i$, ta gọi vector đặc trưng cho class này là $\\phi_i$ có số chiều là $n$. \n",
    "\n",
    "Gọi ma trận $P'$ là ma trận gồm các $\\phi_i, i=1,2,...,m$:\n",
    "$$\n",
    "P'=\\begin{bmatrix}\\phi_{11} & \\phi_{12} & ... & \\phi_{1n}\\\\\n",
    "\\phi_{21} & \\phi_{22} & ... & \\phi_{2n}\\\\\n",
    " &  & \\ddots\\\\\n",
    "\\phi_{m1} & \\phi_{m2} & ... & \\phi_{mn}\n",
    "\\end{bmatrix}\n",
    "$$\n",
    "Ta sẽ giả sử rằng một văn bản bất kì sẽ là một tổ hợp tuyến tính của các vector đặc trưng này, tức với một văn bản $d$ bất kì có biểu diễn TF - IDF với từ điển tương tự là $y$ là một tổ hợp tuyến tính của các vector đặc trưng $\\phi_i, i=1,2,...,m$.\n",
    "$$\n",
    "y=x_{0}+\\sum_{i=1}^{m}x_{i}\\phi_{i}\n",
    "$$\n",
    " Khi đó, nếu có một cái $x_i$ nào đó lớn hơn các thành phần còn lại, ta cho rằng văn bản $d$  đó thuộc vào lớp $c_i$.\n",
    "\n",
    "Đẳng thức trên có thể viết lại như sau: \n",
    "$$\n",
    "y = xP\n",
    "$$\n",
    "trong đó\n",
    "$$\n",
    "P = \n",
    "\\begin{bmatrix}1 & \\phi_{11} & \\phi_{12} & ... & \\phi_{1n}\\\\\n",
    "1 & \\phi_{21} & \\phi_{22} & ... & \\phi_{2n}\\\\\n",
    " &  &  & \\ddots\\\\\n",
    "1 & \\phi_{m1} & \\phi_{m2} & ... & \\phi_{mn}\n",
    "\\end{bmatrix}\n",
    "$$\n",
    "và $x$ là một vector hàng có kích thước $1\\times m+1$.\n",
    "\n",
    "Ta viết lại hệ trên như sau\n",
    "$$\n",
    "\\begin{align*}\n",
    "y & =xP\\\\\n",
    "\\iff P^{T}x^{T} & =y \\\\\n",
    "\\iff PP^Tx^T &= Py\n",
    "\\end{align*}\n",
    "$$\n",
    " Hệ trên là một phương trình $n$ ẩn và $n$ phương trình. Tuy nhiên ta không chắc chắn về tính khả nghịch của ma trận $PP^T$.\n",
    "\n",
    "Từ đây để cho gọn, ta kí hiệu $A^T = PP^T$ và $b^T = Py$\n",
    "\n",
    "Việc tìm được chính xác một vector $x$ thỏa mãn phương trình trên là không khả thi. Ta chuyển sang tìm gần đúng\n",
    "\n",
    "Thay vì tìm một $x$ đúng thỏa mãn hệ trên, ta quay lại tìm gần đúng giá trị $x$ này, tức là ta tìm:\n",
    "$$\n",
    "\\text{argmin}\\left\\{\\left\\Vert A^Tx^T-b^T \\right\\Vert\\right\\}\n",
    "$$\n",
    "Để cho đơn giản, ta viết lại như sau:\n",
    "$$\n",
    "\\text{argmin}\\left\\{\\left\\Vert Ax-b\\right\\Vert\\right\\}\n",
    "$$\n",
    "Bài toán tối ưu trên có thể được giải bằng phương pháp Gradient Descent. Lưu ý rằng $x$ là một vector có các phần tử đều không âm, do đó ta nên kết hợp sử dụng hướng chấp nhận được (feasible direction) thay vì chỉ sử dụng hướng Gradient.\n",
    "\n",
    "> Phương pháp này có vẻ khá giống với một mạng neural 1 hidden layer với activation function là hàm tuyến tính.\n",
    "\n",
    "## Pipeline\n",
    "\n",
    "Các bước giải phương trình trên.\n",
    "\n",
    "Rõ ràng nếu $P^TP$ khả nghịch thì bài toán rất dễ. Trong trường hợp còn lại, cách giải sẽ có chút phức tạp hơn. \n",
    "\n",
    "Bên cạnh đó, dễ thấy rất khó để kiểm tra tính khả nghịch của $P^TP$ cũng như chi phí tính toán cho ma trận nghịch đảo $P$ là rất lớn ($P$ là ma trận có số chiều tương đối lớn).\n",
    "\n",
    "Do đó, ta sẽ tiếp cận bài toán theo một hướng khác, đó là sử dụng Gradient Descent.\n",
    "\n",
    "Bài toán tối ưu lúc này được viết lại như sau:\n",
    "$$\n",
    "\\begin{align*}\n",
    "\\min & \\left\\Vert Ax-b\\right\\Vert ^{2}\\\\\n",
    "x & \\ge0\\\\\n",
    "x & \\in\\mathbb{R}^{n}\n",
    "\\end{align*}\n",
    "$$\n",
    "Từ đây ta thấy hoàn toàn có thể sử dụng Gradient Descent để giải bài toán tối ưu phi tuyến có ràng buộc trên.\n",
    "\n",
    "Tuy nhiên, ở đây có một khó khăn ta gặp phải là không phải lúc nào hướng giảm $\\nabla$ cũng là hướng chấp nhận được của bài toán. Điều này dẫn đến việc cần sử dụng thêm hướng chấp nhận được để thay thế trong trường hợp $\\nabla$ không là hướng giảm chấp nhận được.\n",
    "\n",
    "### Nhắc lại một số kiến thức về hướng giảm\n",
    "\n",
    "#### Định lí 1:\n",
    "\n",
    "Nếu $d$ là hướng giảm chấp nhận được của $f$ tại $x^0$ thì ta có \n",
    "$$\n",
    "\\left\\langle \\nabla f\\left(x^{0}\\right),d\\right\\rangle <0\n",
    "$$\n",
    "Điều này có thể kiểm tra khá dễ dàng, bởi tính $\\nabla f(x^0)$ rất dễ.\n",
    "\n",
    "Tất nhiên ta không cần quan tâm nhiều đến trường hợp $\\nabla f(x^0)$ là hướng giảm chấp nhận được. Hãy xét trong trường hợp $\\nabla f\\left(x^{0}\\right)$ không là một hướng giảm chấp nhận được.\n",
    "\n",
    "Khi đó, ta sẽ cần tìm một giảm $d$ sao cho $d$ là một hướng chấp nhận được, lưu ý là $d$ chưa cần là hướng giảm.\n",
    "\n",
    "#### Định lí 2:\n",
    "\n",
    "Nếu $f$ liên tục trên $D$ thì tồn tại một lân cận $U(-\\nabla f\\left(x\\right))$ của $-\\nabla f\\left(x\\right)$  sao cho $\\forall d\\in U(x)$ đều là hướng giảm chấp nhận được.\n",
    "\n",
    "***Chứng minh***\n",
    "\n",
    "Ta sử dụng phản chứng. Thật vậy, giả sử mọi lân cận $U$ đều không tồn tại hướng giảm $x \\in U$. Khi đó, ta có:\n",
    "$$\n",
    "f\\left(x\\right)\\le f\\left(x+td\\right),\\forall d\\in U\n",
    "$$\n",
    "và \n",
    "$$\n",
    "f\\left(x\\right)>f\\left(x+kd^{0}\\right)\n",
    "$$\n",
    "với $d^{0}=-\\nabla f\\left(x\\right)$.\n",
    "\n",
    "Hiển nhiên ta chỉ xét trường hợp $x$ không là một nghiệm tối ưu.\n",
    "\n",
    "Do $x$ không là nghiệm tối ưu nên ta có $d^0$ là một hướng giảm.\n",
    "\n",
    "Điều này có nghĩa tồn tại $t^0 \\in R$ sao cho $f(x)>f(x+t^0d^0)$\n",
    "\n",
    "Chọn $d_0 = \\frac{x}{2}$, hiển nhiên $d_0$ là một hướng chấp nhận được do $x-d_0$ nằm trong tập chấp nhận được của bài toán. \n",
    "\n",
    "Xét dãy $\\left\\{ d_{n}\\right\\} $ được xác định như sau:\n",
    "$$\n",
    "\\begin{cases}\n",
    "d_{0} & =\\frac{x}{2}\\\\\n",
    "d_{n+1} & =\\frac{d_{n}+d^{0}}{2}\n",
    "\\end{cases}\n",
    "$$\n",
    "Khi đó, ta có:\n",
    "$$\n",
    "\\lVert d_{n+1}-d^{0}\\rVert=\\frac{\\lVert d_{n}-d^{0}\\rVert}{2}\\approx0\n",
    "$$\n",
    "Tức là \n",
    "$$\n",
    "\\underset{n\\to\\infty}{\\lim}\\lVert d_{n}-d^{0}\\rVert=0\n",
    "$$\n",
    "Do $f$ là hàm số liên tục, ta có"
   ]
  },
  {
   "cell_type": "code",
   "execution_count": 5,
   "metadata": {},
   "outputs": [],
   "source": [
    "import numpy as np\n",
    "import matplotlib.pyplot as plt"
   ]
  },
  {
   "cell_type": "code",
   "execution_count": null,
   "metadata": {},
   "outputs": [],
   "source": [
    "class FeasibleSolution:\n",
    "    def __inti__(self):\n",
    "        pass\n",
    "    \n",
    "    def is_feasible(self, f, x, d):\n",
    "        \n",
    "\n",
    "class Optimization:\n",
    "    def __init__(self):\n",
    "        pass\n",
    "    \n",
    "    def get_gradient(self, X, Y, weight):\n",
    "        return a\n",
    "    \n",
    "    def get_feasible_direction(self):\n",
    "        pass"
   ]
  }
 ],
 "metadata": {
  "kernelspec": {
   "display_name": "tensor",
   "language": "python",
   "name": "tensor"
  },
  "language_info": {
   "codemirror_mode": {
    "name": "ipython",
    "version": 3
   },
   "file_extension": ".py",
   "mimetype": "text/x-python",
   "name": "python",
   "nbconvert_exporter": "python",
   "pygments_lexer": "ipython3",
   "version": "3.8.2"
  }
 },
 "nbformat": 4,
 "nbformat_minor": 4
}
